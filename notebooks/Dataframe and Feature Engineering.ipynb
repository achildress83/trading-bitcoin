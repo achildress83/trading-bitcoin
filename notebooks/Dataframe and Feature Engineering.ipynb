{
 "cells": [
  {
   "cell_type": "code",
   "execution_count": 2,
   "metadata": {},
   "outputs": [],
   "source": [
    "import pandas as pd\n",
    "import numpy as np\n",
    "import matplotlib.pyplot as plt\n",
    "%matplotlib inline\n",
    "\n",
    "# for adf test\n",
    "import statsmodels.api as sm\n",
    "from statsmodels.tsa.stattools import adfuller"
   ]
  },
  {
   "cell_type": "markdown",
   "metadata": {},
   "source": [
    "### Combine Dataframes"
   ]
  },
  {
   "cell_type": "code",
   "execution_count": 3,
   "metadata": {},
   "outputs": [
    {
     "data": {
      "text/html": [
       "<div>\n",
       "<style scoped>\n",
       "    .dataframe tbody tr th:only-of-type {\n",
       "        vertical-align: middle;\n",
       "    }\n",
       "\n",
       "    .dataframe tbody tr th {\n",
       "        vertical-align: top;\n",
       "    }\n",
       "\n",
       "    .dataframe thead th {\n",
       "        text-align: right;\n",
       "    }\n",
       "</style>\n",
       "<table border=\"1\" class=\"dataframe\">\n",
       "  <thead>\n",
       "    <tr style=\"text-align: right;\">\n",
       "      <th></th>\n",
       "      <th>Close</th>\n",
       "      <th>Volume</th>\n",
       "    </tr>\n",
       "    <tr>\n",
       "      <th>Date</th>\n",
       "      <th></th>\n",
       "      <th></th>\n",
       "    </tr>\n",
       "  </thead>\n",
       "  <tbody>\n",
       "    <tr>\n",
       "      <td>2014-09-17</td>\n",
       "      <td>457.334015</td>\n",
       "      <td>21056800</td>\n",
       "    </tr>\n",
       "    <tr>\n",
       "      <td>2014-09-18</td>\n",
       "      <td>424.440002</td>\n",
       "      <td>34483200</td>\n",
       "    </tr>\n",
       "    <tr>\n",
       "      <td>2014-09-19</td>\n",
       "      <td>394.795990</td>\n",
       "      <td>37919700</td>\n",
       "    </tr>\n",
       "    <tr>\n",
       "      <td>2014-09-20</td>\n",
       "      <td>408.903992</td>\n",
       "      <td>36863600</td>\n",
       "    </tr>\n",
       "    <tr>\n",
       "      <td>2014-09-21</td>\n",
       "      <td>398.821014</td>\n",
       "      <td>26580100</td>\n",
       "    </tr>\n",
       "  </tbody>\n",
       "</table>\n",
       "</div>"
      ],
      "text/plain": [
       "                 Close    Volume\n",
       "Date                            \n",
       "2014-09-17  457.334015  21056800\n",
       "2014-09-18  424.440002  34483200\n",
       "2014-09-19  394.795990  37919700\n",
       "2014-09-20  408.903992  36863600\n",
       "2014-09-21  398.821014  26580100"
      ]
     },
     "execution_count": 3,
     "metadata": {},
     "output_type": "execute_result"
    }
   ],
   "source": [
    "btc_df = pd.read_csv('BTC-USD.csv', index_col='Date') # data from yahoo finance\n",
    "btc_df = btc_df[['Close', 'Volume']]\n",
    "btc_df.head()"
   ]
  },
  {
   "cell_type": "code",
   "execution_count": 4,
   "metadata": {},
   "outputs": [],
   "source": [
    "btc_df.columns = ['btc_close','btc_volume']"
   ]
  },
  {
   "cell_type": "code",
   "execution_count": 5,
   "metadata": {},
   "outputs": [],
   "source": [
    "btc_price = btc_df[['btc_close']]"
   ]
  },
  {
   "cell_type": "code",
   "execution_count": 6,
   "metadata": {},
   "outputs": [],
   "source": [
    "btc_volume = btc_df[['btc_volume']]"
   ]
  },
  {
   "cell_type": "code",
   "execution_count": 7,
   "metadata": {},
   "outputs": [
    {
     "data": {
      "text/html": [
       "<div>\n",
       "<style scoped>\n",
       "    .dataframe tbody tr th:only-of-type {\n",
       "        vertical-align: middle;\n",
       "    }\n",
       "\n",
       "    .dataframe tbody tr th {\n",
       "        vertical-align: top;\n",
       "    }\n",
       "\n",
       "    .dataframe thead th {\n",
       "        text-align: right;\n",
       "    }\n",
       "</style>\n",
       "<table border=\"1\" class=\"dataframe\">\n",
       "  <thead>\n",
       "    <tr style=\"text-align: right;\">\n",
       "      <th></th>\n",
       "      <th>SPX_Close</th>\n",
       "      <th>SPX_Volume</th>\n",
       "      <th>MCHI_Close</th>\n",
       "      <th>MCHI_Volume</th>\n",
       "      <th>EEM_Close</th>\n",
       "      <th>EEM_Volume</th>\n",
       "      <th>GLD_Close</th>\n",
       "      <th>GLD_Volume</th>\n",
       "      <th>AGG_Close</th>\n",
       "      <th>AGG_Volume</th>\n",
       "      <th>TIPS_Close</th>\n",
       "      <th>TIPS_Volume</th>\n",
       "      <th>VIX_Close</th>\n",
       "    </tr>\n",
       "    <tr>\n",
       "      <th>Date</th>\n",
       "      <th></th>\n",
       "      <th></th>\n",
       "      <th></th>\n",
       "      <th></th>\n",
       "      <th></th>\n",
       "      <th></th>\n",
       "      <th></th>\n",
       "      <th></th>\n",
       "      <th></th>\n",
       "      <th></th>\n",
       "      <th></th>\n",
       "      <th></th>\n",
       "      <th></th>\n",
       "    </tr>\n",
       "  </thead>\n",
       "  <tbody>\n",
       "    <tr>\n",
       "      <td>2014-09-02</td>\n",
       "      <td>2002.280029</td>\n",
       "      <td>2819980000</td>\n",
       "      <td>45.786396</td>\n",
       "      <td>379600</td>\n",
       "      <td>39.657051</td>\n",
       "      <td>48129000</td>\n",
       "      <td>121.650002</td>\n",
       "      <td>10128600</td>\n",
       "      <td>95.206429</td>\n",
       "      <td>1029300</td>\n",
       "      <td>105.180908</td>\n",
       "      <td>1123900</td>\n",
       "      <td>12.25</td>\n",
       "    </tr>\n",
       "    <tr>\n",
       "      <td>2014-09-03</td>\n",
       "      <td>2000.719971</td>\n",
       "      <td>2809980000</td>\n",
       "      <td>47.138927</td>\n",
       "      <td>160800</td>\n",
       "      <td>40.177124</td>\n",
       "      <td>51700200</td>\n",
       "      <td>122.150002</td>\n",
       "      <td>3414600</td>\n",
       "      <td>95.310799</td>\n",
       "      <td>1311700</td>\n",
       "      <td>105.373947</td>\n",
       "      <td>1067500</td>\n",
       "      <td>12.36</td>\n",
       "    </tr>\n",
       "    <tr>\n",
       "      <td>2014-09-04</td>\n",
       "      <td>1997.650024</td>\n",
       "      <td>3072410000</td>\n",
       "      <td>47.175240</td>\n",
       "      <td>283900</td>\n",
       "      <td>40.071346</td>\n",
       "      <td>41676700</td>\n",
       "      <td>121.480003</td>\n",
       "      <td>7310600</td>\n",
       "      <td>95.189034</td>\n",
       "      <td>1308900</td>\n",
       "      <td>104.978714</td>\n",
       "      <td>312100</td>\n",
       "      <td>12.64</td>\n",
       "    </tr>\n",
       "    <tr>\n",
       "      <td>2014-09-05</td>\n",
       "      <td>2007.709961</td>\n",
       "      <td>2818300000</td>\n",
       "      <td>47.583721</td>\n",
       "      <td>435700</td>\n",
       "      <td>40.415112</td>\n",
       "      <td>53035700</td>\n",
       "      <td>122.059998</td>\n",
       "      <td>3490100</td>\n",
       "      <td>95.136841</td>\n",
       "      <td>798500</td>\n",
       "      <td>104.868408</td>\n",
       "      <td>327800</td>\n",
       "      <td>12.09</td>\n",
       "    </tr>\n",
       "    <tr>\n",
       "      <td>2014-09-08</td>\n",
       "      <td>2001.540039</td>\n",
       "      <td>2789090000</td>\n",
       "      <td>47.320480</td>\n",
       "      <td>284000</td>\n",
       "      <td>39.939129</td>\n",
       "      <td>50222700</td>\n",
       "      <td>120.730003</td>\n",
       "      <td>7506500</td>\n",
       "      <td>95.041168</td>\n",
       "      <td>895300</td>\n",
       "      <td>104.611053</td>\n",
       "      <td>320800</td>\n",
       "      <td>12.66</td>\n",
       "    </tr>\n",
       "  </tbody>\n",
       "</table>\n",
       "</div>"
      ],
      "text/plain": [
       "              SPX_Close  SPX_Volume  MCHI_Close  MCHI_Volume  EEM_Close  \\\n",
       "Date                                                                      \n",
       "2014-09-02  2002.280029  2819980000   45.786396       379600  39.657051   \n",
       "2014-09-03  2000.719971  2809980000   47.138927       160800  40.177124   \n",
       "2014-09-04  1997.650024  3072410000   47.175240       283900  40.071346   \n",
       "2014-09-05  2007.709961  2818300000   47.583721       435700  40.415112   \n",
       "2014-09-08  2001.540039  2789090000   47.320480       284000  39.939129   \n",
       "\n",
       "            EEM_Volume   GLD_Close  GLD_Volume  AGG_Close  AGG_Volume  \\\n",
       "Date                                                                    \n",
       "2014-09-02    48129000  121.650002    10128600  95.206429     1029300   \n",
       "2014-09-03    51700200  122.150002     3414600  95.310799     1311700   \n",
       "2014-09-04    41676700  121.480003     7310600  95.189034     1308900   \n",
       "2014-09-05    53035700  122.059998     3490100  95.136841      798500   \n",
       "2014-09-08    50222700  120.730003     7506500  95.041168      895300   \n",
       "\n",
       "            TIPS_Close  TIPS_Volume  VIX_Close  \n",
       "Date                                            \n",
       "2014-09-02  105.180908      1123900      12.25  \n",
       "2014-09-03  105.373947      1067500      12.36  \n",
       "2014-09-04  104.978714       312100      12.64  \n",
       "2014-09-05  104.868408       327800      12.09  \n",
       "2014-09-08  104.611053       320800      12.66  "
      ]
     },
     "execution_count": 7,
     "metadata": {},
     "output_type": "execute_result"
    }
   ],
   "source": [
    "assets_df = pd.read_csv('Asset_Classes.csv', index_col='Date', parse_dates=True)\n",
    "assets_df.head()"
   ]
  },
  {
   "cell_type": "code",
   "execution_count": 8,
   "metadata": {},
   "outputs": [],
   "source": [
    "assets_df.columns = [x.lower() for x in assets_df.columns]"
   ]
  },
  {
   "cell_type": "code",
   "execution_count": 9,
   "metadata": {},
   "outputs": [
    {
     "data": {
      "text/html": [
       "<div>\n",
       "<style scoped>\n",
       "    .dataframe tbody tr th:only-of-type {\n",
       "        vertical-align: middle;\n",
       "    }\n",
       "\n",
       "    .dataframe tbody tr th {\n",
       "        vertical-align: top;\n",
       "    }\n",
       "\n",
       "    .dataframe thead th {\n",
       "        text-align: right;\n",
       "    }\n",
       "</style>\n",
       "<table border=\"1\" class=\"dataframe\">\n",
       "  <thead>\n",
       "    <tr style=\"text-align: right;\">\n",
       "      <th></th>\n",
       "      <th>spx_close</th>\n",
       "      <th>spx_volume</th>\n",
       "      <th>mchi_close</th>\n",
       "      <th>mchi_volume</th>\n",
       "      <th>eem_close</th>\n",
       "      <th>eem_volume</th>\n",
       "      <th>gld_close</th>\n",
       "      <th>gld_volume</th>\n",
       "      <th>agg_close</th>\n",
       "      <th>agg_volume</th>\n",
       "      <th>tips_close</th>\n",
       "      <th>tips_volume</th>\n",
       "      <th>vix_close</th>\n",
       "    </tr>\n",
       "    <tr>\n",
       "      <th>Date</th>\n",
       "      <th></th>\n",
       "      <th></th>\n",
       "      <th></th>\n",
       "      <th></th>\n",
       "      <th></th>\n",
       "      <th></th>\n",
       "      <th></th>\n",
       "      <th></th>\n",
       "      <th></th>\n",
       "      <th></th>\n",
       "      <th></th>\n",
       "      <th></th>\n",
       "      <th></th>\n",
       "    </tr>\n",
       "  </thead>\n",
       "  <tbody>\n",
       "    <tr>\n",
       "      <td>2014-09-02</td>\n",
       "      <td>2002.280029</td>\n",
       "      <td>2819980000</td>\n",
       "      <td>45.786396</td>\n",
       "      <td>379600</td>\n",
       "      <td>39.657051</td>\n",
       "      <td>48129000</td>\n",
       "      <td>121.650002</td>\n",
       "      <td>10128600</td>\n",
       "      <td>95.206429</td>\n",
       "      <td>1029300</td>\n",
       "      <td>105.180908</td>\n",
       "      <td>1123900</td>\n",
       "      <td>12.25</td>\n",
       "    </tr>\n",
       "    <tr>\n",
       "      <td>2014-09-03</td>\n",
       "      <td>2000.719971</td>\n",
       "      <td>2809980000</td>\n",
       "      <td>47.138927</td>\n",
       "      <td>160800</td>\n",
       "      <td>40.177124</td>\n",
       "      <td>51700200</td>\n",
       "      <td>122.150002</td>\n",
       "      <td>3414600</td>\n",
       "      <td>95.310799</td>\n",
       "      <td>1311700</td>\n",
       "      <td>105.373947</td>\n",
       "      <td>1067500</td>\n",
       "      <td>12.36</td>\n",
       "    </tr>\n",
       "    <tr>\n",
       "      <td>2014-09-04</td>\n",
       "      <td>1997.650024</td>\n",
       "      <td>3072410000</td>\n",
       "      <td>47.175240</td>\n",
       "      <td>283900</td>\n",
       "      <td>40.071346</td>\n",
       "      <td>41676700</td>\n",
       "      <td>121.480003</td>\n",
       "      <td>7310600</td>\n",
       "      <td>95.189034</td>\n",
       "      <td>1308900</td>\n",
       "      <td>104.978714</td>\n",
       "      <td>312100</td>\n",
       "      <td>12.64</td>\n",
       "    </tr>\n",
       "    <tr>\n",
       "      <td>2014-09-05</td>\n",
       "      <td>2007.709961</td>\n",
       "      <td>2818300000</td>\n",
       "      <td>47.583721</td>\n",
       "      <td>435700</td>\n",
       "      <td>40.415112</td>\n",
       "      <td>53035700</td>\n",
       "      <td>122.059998</td>\n",
       "      <td>3490100</td>\n",
       "      <td>95.136841</td>\n",
       "      <td>798500</td>\n",
       "      <td>104.868408</td>\n",
       "      <td>327800</td>\n",
       "      <td>12.09</td>\n",
       "    </tr>\n",
       "    <tr>\n",
       "      <td>2014-09-08</td>\n",
       "      <td>2001.540039</td>\n",
       "      <td>2789090000</td>\n",
       "      <td>47.320480</td>\n",
       "      <td>284000</td>\n",
       "      <td>39.939129</td>\n",
       "      <td>50222700</td>\n",
       "      <td>120.730003</td>\n",
       "      <td>7506500</td>\n",
       "      <td>95.041168</td>\n",
       "      <td>895300</td>\n",
       "      <td>104.611053</td>\n",
       "      <td>320800</td>\n",
       "      <td>12.66</td>\n",
       "    </tr>\n",
       "  </tbody>\n",
       "</table>\n",
       "</div>"
      ],
      "text/plain": [
       "              spx_close  spx_volume  mchi_close  mchi_volume  eem_close  \\\n",
       "Date                                                                      \n",
       "2014-09-02  2002.280029  2819980000   45.786396       379600  39.657051   \n",
       "2014-09-03  2000.719971  2809980000   47.138927       160800  40.177124   \n",
       "2014-09-04  1997.650024  3072410000   47.175240       283900  40.071346   \n",
       "2014-09-05  2007.709961  2818300000   47.583721       435700  40.415112   \n",
       "2014-09-08  2001.540039  2789090000   47.320480       284000  39.939129   \n",
       "\n",
       "            eem_volume   gld_close  gld_volume  agg_close  agg_volume  \\\n",
       "Date                                                                    \n",
       "2014-09-02    48129000  121.650002    10128600  95.206429     1029300   \n",
       "2014-09-03    51700200  122.150002     3414600  95.310799     1311700   \n",
       "2014-09-04    41676700  121.480003     7310600  95.189034     1308900   \n",
       "2014-09-05    53035700  122.059998     3490100  95.136841      798500   \n",
       "2014-09-08    50222700  120.730003     7506500  95.041168      895300   \n",
       "\n",
       "            tips_close  tips_volume  vix_close  \n",
       "Date                                            \n",
       "2014-09-02  105.180908      1123900      12.25  \n",
       "2014-09-03  105.373947      1067500      12.36  \n",
       "2014-09-04  104.978714       312100      12.64  \n",
       "2014-09-05  104.868408       327800      12.09  \n",
       "2014-09-08  104.611053       320800      12.66  "
      ]
     },
     "execution_count": 9,
     "metadata": {},
     "output_type": "execute_result"
    }
   ],
   "source": [
    "assets_df.head()"
   ]
  },
  {
   "cell_type": "code",
   "execution_count": 10,
   "metadata": {},
   "outputs": [
    {
     "name": "stdout",
     "output_type": "stream",
     "text": [
      "['spx_volume', 'mchi_volume', 'eem_volume', 'gld_volume', 'agg_volume', 'tips_volume']\n",
      "['spx_close', 'mchi_close', 'eem_close', 'gld_close', 'agg_close', 'tips_close', 'vix_close']\n"
     ]
    }
   ],
   "source": [
    "volume=[] # create separate volume df\n",
    "price=[] # create separate price df\n",
    "for i, col in enumerate(assets_df.columns):\n",
    "    if i%2 == 0:\n",
    "        price.append(col)\n",
    "    else:\n",
    "        volume.append(col)\n",
    "        \n",
    "print(volume)\n",
    "print(price)"
   ]
  },
  {
   "cell_type": "code",
   "execution_count": 11,
   "metadata": {},
   "outputs": [],
   "source": [
    "asset_prices = assets_df[price]"
   ]
  },
  {
   "cell_type": "code",
   "execution_count": 12,
   "metadata": {},
   "outputs": [],
   "source": [
    "asset_volumes = assets_df[volume]"
   ]
  },
  {
   "cell_type": "code",
   "execution_count": 13,
   "metadata": {},
   "outputs": [
    {
     "data": {
      "text/html": [
       "<div>\n",
       "<style scoped>\n",
       "    .dataframe tbody tr th:only-of-type {\n",
       "        vertical-align: middle;\n",
       "    }\n",
       "\n",
       "    .dataframe tbody tr th {\n",
       "        vertical-align: top;\n",
       "    }\n",
       "\n",
       "    .dataframe thead th {\n",
       "        text-align: right;\n",
       "    }\n",
       "</style>\n",
       "<table border=\"1\" class=\"dataframe\">\n",
       "  <thead>\n",
       "    <tr style=\"text-align: right;\">\n",
       "      <th></th>\n",
       "      <th>btc_close</th>\n",
       "      <th>spx_close</th>\n",
       "      <th>mchi_close</th>\n",
       "      <th>eem_close</th>\n",
       "      <th>gld_close</th>\n",
       "      <th>agg_close</th>\n",
       "      <th>tips_close</th>\n",
       "      <th>vix_close</th>\n",
       "    </tr>\n",
       "    <tr>\n",
       "      <th>Date</th>\n",
       "      <th></th>\n",
       "      <th></th>\n",
       "      <th></th>\n",
       "      <th></th>\n",
       "      <th></th>\n",
       "      <th></th>\n",
       "      <th></th>\n",
       "      <th></th>\n",
       "    </tr>\n",
       "  </thead>\n",
       "  <tbody>\n",
       "    <tr>\n",
       "      <td>2014-09-17</td>\n",
       "      <td>457.334015</td>\n",
       "      <td>2001.569946</td>\n",
       "      <td>45.268986</td>\n",
       "      <td>38.546410</td>\n",
       "      <td>117.540001</td>\n",
       "      <td>94.371346</td>\n",
       "      <td>102.938339</td>\n",
       "      <td>12.65</td>\n",
       "    </tr>\n",
       "    <tr>\n",
       "      <td>2014-09-18</td>\n",
       "      <td>424.440002</td>\n",
       "      <td>2011.359985</td>\n",
       "      <td>45.250820</td>\n",
       "      <td>38.599300</td>\n",
       "      <td>117.779999</td>\n",
       "      <td>94.380081</td>\n",
       "      <td>102.671791</td>\n",
       "      <td>12.03</td>\n",
       "    </tr>\n",
       "    <tr>\n",
       "      <td>2014-09-19</td>\n",
       "      <td>394.795990</td>\n",
       "      <td>2010.400024</td>\n",
       "      <td>44.796963</td>\n",
       "      <td>38.308414</td>\n",
       "      <td>117.089996</td>\n",
       "      <td>94.536613</td>\n",
       "      <td>102.975075</td>\n",
       "      <td>12.11</td>\n",
       "    </tr>\n",
       "    <tr>\n",
       "      <td>2014-09-20</td>\n",
       "      <td>408.903992</td>\n",
       "      <td>NaN</td>\n",
       "      <td>NaN</td>\n",
       "      <td>NaN</td>\n",
       "      <td>NaN</td>\n",
       "      <td>NaN</td>\n",
       "      <td>NaN</td>\n",
       "      <td>NaN</td>\n",
       "    </tr>\n",
       "    <tr>\n",
       "      <td>2014-09-21</td>\n",
       "      <td>398.821014</td>\n",
       "      <td>NaN</td>\n",
       "      <td>NaN</td>\n",
       "      <td>NaN</td>\n",
       "      <td>NaN</td>\n",
       "      <td>NaN</td>\n",
       "      <td>NaN</td>\n",
       "      <td>NaN</td>\n",
       "    </tr>\n",
       "    <tr>\n",
       "      <td>2014-09-22</td>\n",
       "      <td>402.152008</td>\n",
       "      <td>1994.290039</td>\n",
       "      <td>43.998154</td>\n",
       "      <td>37.726654</td>\n",
       "      <td>116.849998</td>\n",
       "      <td>94.667091</td>\n",
       "      <td>102.901558</td>\n",
       "      <td>13.69</td>\n",
       "    </tr>\n",
       "    <tr>\n",
       "      <td>2014-09-23</td>\n",
       "      <td>435.790985</td>\n",
       "      <td>1982.770020</td>\n",
       "      <td>43.762142</td>\n",
       "      <td>37.515102</td>\n",
       "      <td>117.599998</td>\n",
       "      <td>94.754097</td>\n",
       "      <td>103.287560</td>\n",
       "      <td>14.93</td>\n",
       "    </tr>\n",
       "  </tbody>\n",
       "</table>\n",
       "</div>"
      ],
      "text/plain": [
       "             btc_close    spx_close  mchi_close  eem_close   gld_close  \\\n",
       "Date                                                                     \n",
       "2014-09-17  457.334015  2001.569946   45.268986  38.546410  117.540001   \n",
       "2014-09-18  424.440002  2011.359985   45.250820  38.599300  117.779999   \n",
       "2014-09-19  394.795990  2010.400024   44.796963  38.308414  117.089996   \n",
       "2014-09-20  408.903992          NaN         NaN        NaN         NaN   \n",
       "2014-09-21  398.821014          NaN         NaN        NaN         NaN   \n",
       "2014-09-22  402.152008  1994.290039   43.998154  37.726654  116.849998   \n",
       "2014-09-23  435.790985  1982.770020   43.762142  37.515102  117.599998   \n",
       "\n",
       "            agg_close  tips_close  vix_close  \n",
       "Date                                          \n",
       "2014-09-17  94.371346  102.938339      12.65  \n",
       "2014-09-18  94.380081  102.671791      12.03  \n",
       "2014-09-19  94.536613  102.975075      12.11  \n",
       "2014-09-20        NaN         NaN        NaN  \n",
       "2014-09-21        NaN         NaN        NaN  \n",
       "2014-09-22  94.667091  102.901558      13.69  \n",
       "2014-09-23  94.754097  103.287560      14.93  "
      ]
     },
     "execution_count": 13,
     "metadata": {},
     "output_type": "execute_result"
    }
   ],
   "source": [
    "df_prices = btc_price.join(asset_prices, how='left')\n",
    "df_prices.head(7)"
   ]
  },
  {
   "cell_type": "code",
   "execution_count": 14,
   "metadata": {},
   "outputs": [],
   "source": [
    "# linearly fill missing weekend and holiday data from stocks, bonds, vix, and gold\n",
    "df_prices.interpolate(method='linear', inplace=True) "
   ]
  },
  {
   "cell_type": "code",
   "execution_count": 15,
   "metadata": {},
   "outputs": [
    {
     "data": {
      "text/html": [
       "<div>\n",
       "<style scoped>\n",
       "    .dataframe tbody tr th:only-of-type {\n",
       "        vertical-align: middle;\n",
       "    }\n",
       "\n",
       "    .dataframe tbody tr th {\n",
       "        vertical-align: top;\n",
       "    }\n",
       "\n",
       "    .dataframe thead th {\n",
       "        text-align: right;\n",
       "    }\n",
       "</style>\n",
       "<table border=\"1\" class=\"dataframe\">\n",
       "  <thead>\n",
       "    <tr style=\"text-align: right;\">\n",
       "      <th></th>\n",
       "      <th>btc_volume</th>\n",
       "      <th>spx_volume</th>\n",
       "      <th>mchi_volume</th>\n",
       "      <th>eem_volume</th>\n",
       "      <th>gld_volume</th>\n",
       "      <th>agg_volume</th>\n",
       "      <th>tips_volume</th>\n",
       "    </tr>\n",
       "    <tr>\n",
       "      <th>Date</th>\n",
       "      <th></th>\n",
       "      <th></th>\n",
       "      <th></th>\n",
       "      <th></th>\n",
       "      <th></th>\n",
       "      <th></th>\n",
       "      <th></th>\n",
       "    </tr>\n",
       "  </thead>\n",
       "  <tbody>\n",
       "    <tr>\n",
       "      <td>2014-09-17</td>\n",
       "      <td>21056800</td>\n",
       "      <td>3.209420e+09</td>\n",
       "      <td>371900.0</td>\n",
       "      <td>76121700.0</td>\n",
       "      <td>8328700.0</td>\n",
       "      <td>707200.0</td>\n",
       "      <td>648700.0</td>\n",
       "    </tr>\n",
       "    <tr>\n",
       "      <td>2014-09-18</td>\n",
       "      <td>34483200</td>\n",
       "      <td>3.235340e+09</td>\n",
       "      <td>89700.0</td>\n",
       "      <td>50513900.0</td>\n",
       "      <td>5368700.0</td>\n",
       "      <td>707600.0</td>\n",
       "      <td>493400.0</td>\n",
       "    </tr>\n",
       "    <tr>\n",
       "      <td>2014-09-19</td>\n",
       "      <td>37919700</td>\n",
       "      <td>4.880220e+09</td>\n",
       "      <td>271400.0</td>\n",
       "      <td>88033100.0</td>\n",
       "      <td>10930200.0</td>\n",
       "      <td>929900.0</td>\n",
       "      <td>391100.0</td>\n",
       "    </tr>\n",
       "    <tr>\n",
       "      <td>2014-09-20</td>\n",
       "      <td>36863600</td>\n",
       "      <td>NaN</td>\n",
       "      <td>NaN</td>\n",
       "      <td>NaN</td>\n",
       "      <td>NaN</td>\n",
       "      <td>NaN</td>\n",
       "      <td>NaN</td>\n",
       "    </tr>\n",
       "    <tr>\n",
       "      <td>2014-09-21</td>\n",
       "      <td>26580100</td>\n",
       "      <td>NaN</td>\n",
       "      <td>NaN</td>\n",
       "      <td>NaN</td>\n",
       "      <td>NaN</td>\n",
       "      <td>NaN</td>\n",
       "      <td>NaN</td>\n",
       "    </tr>\n",
       "    <tr>\n",
       "      <td>2014-09-22</td>\n",
       "      <td>24127600</td>\n",
       "      <td>3.349670e+09</td>\n",
       "      <td>367600.0</td>\n",
       "      <td>83094000.0</td>\n",
       "      <td>7601600.0</td>\n",
       "      <td>592400.0</td>\n",
       "      <td>1131400.0</td>\n",
       "    </tr>\n",
       "    <tr>\n",
       "      <td>2014-09-23</td>\n",
       "      <td>45099500</td>\n",
       "      <td>3.279350e+09</td>\n",
       "      <td>423100.0</td>\n",
       "      <td>82990700.0</td>\n",
       "      <td>4664800.0</td>\n",
       "      <td>705200.0</td>\n",
       "      <td>571300.0</td>\n",
       "    </tr>\n",
       "  </tbody>\n",
       "</table>\n",
       "</div>"
      ],
      "text/plain": [
       "            btc_volume    spx_volume  mchi_volume  eem_volume  gld_volume  \\\n",
       "Date                                                                        \n",
       "2014-09-17    21056800  3.209420e+09     371900.0  76121700.0   8328700.0   \n",
       "2014-09-18    34483200  3.235340e+09      89700.0  50513900.0   5368700.0   \n",
       "2014-09-19    37919700  4.880220e+09     271400.0  88033100.0  10930200.0   \n",
       "2014-09-20    36863600           NaN          NaN         NaN         NaN   \n",
       "2014-09-21    26580100           NaN          NaN         NaN         NaN   \n",
       "2014-09-22    24127600  3.349670e+09     367600.0  83094000.0   7601600.0   \n",
       "2014-09-23    45099500  3.279350e+09     423100.0  82990700.0   4664800.0   \n",
       "\n",
       "            agg_volume  tips_volume  \n",
       "Date                                 \n",
       "2014-09-17    707200.0     648700.0  \n",
       "2014-09-18    707600.0     493400.0  \n",
       "2014-09-19    929900.0     391100.0  \n",
       "2014-09-20         NaN          NaN  \n",
       "2014-09-21         NaN          NaN  \n",
       "2014-09-22    592400.0    1131400.0  \n",
       "2014-09-23    705200.0     571300.0  "
      ]
     },
     "execution_count": 15,
     "metadata": {},
     "output_type": "execute_result"
    }
   ],
   "source": [
    "df_volumes = btc_volume.join(asset_volumes, how='left')\n",
    "df_volumes.head(7)"
   ]
  },
  {
   "cell_type": "code",
   "execution_count": 16,
   "metadata": {},
   "outputs": [],
   "source": [
    "df_volumes.interpolate(method='linear', inplace=True)"
   ]
  },
  {
   "cell_type": "code",
   "execution_count": 17,
   "metadata": {},
   "outputs": [],
   "source": [
    "anxiety_index = pd.read_csv('Investopedia_anxiety_index.csv', index_col='Date', parse_dates=True)"
   ]
  },
  {
   "cell_type": "code",
   "execution_count": 18,
   "metadata": {},
   "outputs": [],
   "source": [
    "# fill feb 2020 when data comes out\n",
    "df = df_prices.join(anxiety_index, how='left').fillna(method='bfill')"
   ]
  },
  {
   "cell_type": "code",
   "execution_count": 19,
   "metadata": {},
   "outputs": [],
   "source": [
    "df.rename(columns={'IAI Value':'iai_value'}, inplace=True)"
   ]
  },
  {
   "cell_type": "code",
   "execution_count": 20,
   "metadata": {
    "scrolled": true
   },
   "outputs": [
    {
     "name": "stdout",
     "output_type": "stream",
     "text": [
      "<class 'pandas.core.frame.DataFrame'>\n",
      "DatetimeIndex: 1980 entries, 2014-09-17 to 2020-02-17\n",
      "Data columns (total 9 columns):\n",
      "btc_close     1980 non-null float64\n",
      "spx_close     1980 non-null float64\n",
      "mchi_close    1980 non-null float64\n",
      "eem_close     1980 non-null float64\n",
      "gld_close     1980 non-null float64\n",
      "agg_close     1980 non-null float64\n",
      "tips_close    1980 non-null float64\n",
      "vix_close     1980 non-null float64\n",
      "iai_value     1963 non-null float64\n",
      "dtypes: float64(9)\n",
      "memory usage: 154.7 KB\n"
     ]
    }
   ],
   "source": [
    "df.info()"
   ]
  },
  {
   "cell_type": "code",
   "execution_count": 21,
   "metadata": {
    "scrolled": true
   },
   "outputs": [],
   "source": [
    "# pull in and separate ETH price and volume\n",
    "eth_df = pd.read_csv('ETH.csv', index_col='Date', parse_dates=True)\n",
    "eth_df.rename(columns={'Close**':'eth_close', 'Volume':'volume'}, inplace=True)\n",
    "eth_price = eth_df['eth_close']\n",
    "eth_volume = eth_df['volume']"
   ]
  },
  {
   "cell_type": "code",
   "execution_count": 22,
   "metadata": {},
   "outputs": [
    {
     "name": "stdout",
     "output_type": "stream",
     "text": [
      "<class 'pandas.core.frame.DataFrame'>\n",
      "DatetimeIndex: 1980 entries, 2014-09-17 to 2020-02-17\n",
      "Data columns (total 10 columns):\n",
      "btc_close     1980 non-null float64\n",
      "spx_close     1980 non-null float64\n",
      "mchi_close    1980 non-null float64\n",
      "eem_close     1980 non-null float64\n",
      "gld_close     1980 non-null float64\n",
      "agg_close     1980 non-null float64\n",
      "tips_close    1980 non-null float64\n",
      "vix_close     1980 non-null float64\n",
      "iai_value     1963 non-null float64\n",
      "eth_close     1656 non-null object\n",
      "dtypes: float64(9), object(1)\n",
      "memory usage: 250.2+ KB\n"
     ]
    }
   ],
   "source": [
    "# this df includes ethereum, which cuts off over 300 early observations, but is worth including for cointegration reasons\n",
    "df = df.join(eth_price, how='left')\n",
    "df.info()"
   ]
  },
  {
   "cell_type": "code",
   "execution_count": 23,
   "metadata": {},
   "outputs": [
    {
     "data": {
      "text/html": [
       "<div>\n",
       "<style scoped>\n",
       "    .dataframe tbody tr th:only-of-type {\n",
       "        vertical-align: middle;\n",
       "    }\n",
       "\n",
       "    .dataframe tbody tr th {\n",
       "        vertical-align: top;\n",
       "    }\n",
       "\n",
       "    .dataframe thead th {\n",
       "        text-align: right;\n",
       "    }\n",
       "</style>\n",
       "<table border=\"1\" class=\"dataframe\">\n",
       "  <thead>\n",
       "    <tr style=\"text-align: right;\">\n",
       "      <th></th>\n",
       "      <th>btc_close</th>\n",
       "      <th>spx_close</th>\n",
       "      <th>mchi_close</th>\n",
       "      <th>eem_close</th>\n",
       "      <th>gld_close</th>\n",
       "      <th>agg_close</th>\n",
       "      <th>tips_close</th>\n",
       "      <th>vix_close</th>\n",
       "      <th>iai_value</th>\n",
       "      <th>eth_close</th>\n",
       "    </tr>\n",
       "    <tr>\n",
       "      <th>Date</th>\n",
       "      <th></th>\n",
       "      <th></th>\n",
       "      <th></th>\n",
       "      <th></th>\n",
       "      <th></th>\n",
       "      <th></th>\n",
       "      <th></th>\n",
       "      <th></th>\n",
       "      <th></th>\n",
       "      <th></th>\n",
       "    </tr>\n",
       "  </thead>\n",
       "  <tbody>\n",
       "    <tr>\n",
       "      <td>2015-08-07</td>\n",
       "      <td>279.584991</td>\n",
       "      <td>2077.570068</td>\n",
       "      <td>46.110725</td>\n",
       "      <td>32.698902</td>\n",
       "      <td>104.650002</td>\n",
       "      <td>97.121048</td>\n",
       "      <td>103.066452</td>\n",
       "      <td>13.390000</td>\n",
       "      <td>109.15</td>\n",
       "      <td>2.77</td>\n",
       "    </tr>\n",
       "    <tr>\n",
       "      <td>2015-08-08</td>\n",
       "      <td>260.997009</td>\n",
       "      <td>2086.440023</td>\n",
       "      <td>46.462504</td>\n",
       "      <td>32.882065</td>\n",
       "      <td>105.006668</td>\n",
       "      <td>97.079536</td>\n",
       "      <td>103.017403</td>\n",
       "      <td>13.003333</td>\n",
       "      <td>109.15</td>\n",
       "      <td>0.753325</td>\n",
       "    </tr>\n",
       "    <tr>\n",
       "      <td>2015-08-09</td>\n",
       "      <td>265.083008</td>\n",
       "      <td>2095.309977</td>\n",
       "      <td>46.814282</td>\n",
       "      <td>33.065227</td>\n",
       "      <td>105.363335</td>\n",
       "      <td>97.038025</td>\n",
       "      <td>102.968353</td>\n",
       "      <td>12.616667</td>\n",
       "      <td>109.15</td>\n",
       "      <td>0.701897</td>\n",
       "    </tr>\n",
       "    <tr>\n",
       "      <td>2015-08-10</td>\n",
       "      <td>264.470001</td>\n",
       "      <td>2104.179932</td>\n",
       "      <td>47.166061</td>\n",
       "      <td>33.248390</td>\n",
       "      <td>105.720001</td>\n",
       "      <td>96.996513</td>\n",
       "      <td>102.919304</td>\n",
       "      <td>12.230000</td>\n",
       "      <td>109.15</td>\n",
       "      <td>0.708448</td>\n",
       "    </tr>\n",
       "    <tr>\n",
       "      <td>2015-08-11</td>\n",
       "      <td>270.385986</td>\n",
       "      <td>2084.070068</td>\n",
       "      <td>46.582840</td>\n",
       "      <td>32.518738</td>\n",
       "      <td>106.260002</td>\n",
       "      <td>97.316696</td>\n",
       "      <td>103.342316</td>\n",
       "      <td>13.710000</td>\n",
       "      <td>109.15</td>\n",
       "      <td>1.07</td>\n",
       "    </tr>\n",
       "  </tbody>\n",
       "</table>\n",
       "</div>"
      ],
      "text/plain": [
       "             btc_close    spx_close  mchi_close  eem_close   gld_close  \\\n",
       "Date                                                                     \n",
       "2015-08-07  279.584991  2077.570068   46.110725  32.698902  104.650002   \n",
       "2015-08-08  260.997009  2086.440023   46.462504  32.882065  105.006668   \n",
       "2015-08-09  265.083008  2095.309977   46.814282  33.065227  105.363335   \n",
       "2015-08-10  264.470001  2104.179932   47.166061  33.248390  105.720001   \n",
       "2015-08-11  270.385986  2084.070068   46.582840  32.518738  106.260002   \n",
       "\n",
       "            agg_close  tips_close  vix_close  iai_value eth_close  \n",
       "Date                                                               \n",
       "2015-08-07  97.121048  103.066452  13.390000     109.15      2.77  \n",
       "2015-08-08  97.079536  103.017403  13.003333     109.15  0.753325  \n",
       "2015-08-09  97.038025  102.968353  12.616667     109.15  0.701897  \n",
       "2015-08-10  96.996513  102.919304  12.230000     109.15  0.708448  \n",
       "2015-08-11  97.316696  103.342316  13.710000     109.15      1.07  "
      ]
     },
     "execution_count": 23,
     "metadata": {},
     "output_type": "execute_result"
    }
   ],
   "source": [
    "df = df[~df['eth_close'].isna()]\n",
    "df.head()"
   ]
  },
  {
   "cell_type": "code",
   "execution_count": null,
   "metadata": {},
   "outputs": [],
   "source": [
    "# ETH prices are strings, convert to floats\n",
    "def remove_commas(row):\n",
    "    return row.replace(',', '')\n",
    "    \n",
    "df['eth_close'] = df['eth_close'].apply(remove_commas)\n",
    "df['eth_close'] = df['eth_close'].astype(float)"
   ]
  },
  {
   "cell_type": "markdown",
   "metadata": {},
   "source": [
    "### Create Features\n",
    "#### Daily Log Return"
   ]
  },
  {
   "cell_type": "code",
   "execution_count": 89,
   "metadata": {
    "scrolled": false
   },
   "outputs": [
    {
     "name": "stderr",
     "output_type": "stream",
     "text": [
      "C:\\Users\\achil\\Anaconda3\\envs\\learn-env\\lib\\site-packages\\ipykernel_launcher.py:1: SettingWithCopyWarning: \n",
      "A value is trying to be set on a copy of a slice from a DataFrame.\n",
      "Try using .loc[row_indexer,col_indexer] = value instead\n",
      "\n",
      "See the caveats in the documentation: http://pandas.pydata.org/pandas-docs/stable/user_guide/indexing.html#returning-a-view-versus-a-copy\n",
      "  \"\"\"Entry point for launching an IPython kernel.\n"
     ]
    }
   ],
   "source": [
    "# calculate daily log return\n",
    "df['btc_return'] = np.log(df.btc_close/df.btc_close.shift(1))"
   ]
  },
  {
   "cell_type": "markdown",
   "metadata": {},
   "source": [
    "#### Moving Averages"
   ]
  },
  {
   "cell_type": "code",
   "execution_count": 25,
   "metadata": {},
   "outputs": [],
   "source": [
    "# adds SMA columns to dataframe\n",
    "days = [7, 14, 20, 50]\n",
    "periods = [str(x)+'D' for x in days]\n",
    "for n in periods:\n",
    "    df[n] = df.btc_close.rolling(n).mean()\n"
   ]
  },
  {
   "cell_type": "code",
   "execution_count": 27,
   "metadata": {},
   "outputs": [
    {
     "name": "stdout",
     "output_type": "stream",
     "text": [
      "<class 'pandas.core.frame.DataFrame'>\n",
      "DatetimeIndex: 1656 entries, 2015-08-07 to 2020-02-17\n",
      "Data columns (total 14 columns):\n",
      "btc_close     1656 non-null float64\n",
      "spx_close     1656 non-null float64\n",
      "mchi_close    1656 non-null float64\n",
      "eem_close     1656 non-null float64\n",
      "gld_close     1656 non-null float64\n",
      "agg_close     1656 non-null float64\n",
      "tips_close    1656 non-null float64\n",
      "vix_close     1656 non-null float64\n",
      "iai_value     1639 non-null float64\n",
      "eth_close     1656 non-null object\n",
      "7D            1656 non-null float64\n",
      "14D           1656 non-null float64\n",
      "20D           1656 non-null float64\n",
      "50D           1656 non-null float64\n",
      "dtypes: float64(13), object(1)\n",
      "memory usage: 194.1+ KB\n"
     ]
    }
   ],
   "source": [
    "df.info()"
   ]
  },
  {
   "cell_type": "code",
   "execution_count": 30,
   "metadata": {},
   "outputs": [
    {
     "data": {
      "image/png": "[encoded data removed]",
      "text/plain": [
       "<Figure size 1080x576 with 1 Axes>"
      ]
     },
     "metadata": {
      "needs_background": "light"
     },
     "output_type": "display_data"
    }
   ],
   "source": [
    "_=plt.figure(figsize=(15,8))\n",
    "for y in periods:\n",
    "    _= plt.plot(df.index, df[y])\n",
    "    "
   ]
  },
  {
   "cell_type": "markdown",
   "metadata": {},
   "source": [
    "#### Relative Strength Index"
   ]
  },
  {
   "cell_type": "code",
   "execution_count": 31,
   "metadata": {},
   "outputs": [],
   "source": [
    "import talib"
   ]
  },
  {
   "cell_type": "code",
   "execution_count": 32,
   "metadata": {},
   "outputs": [],
   "source": [
    "# calculate RSI features and add to df\n",
    "\n",
    "# selected time periods 7, 14, 30, 50 days\n",
    "for n in days:\n",
    "    # Create the RSI indicator\n",
    "    df['rsi' + str(n)] = talib.RSI(df['btc_close'].values, timeperiod=n)"
   ]
  },
  {
   "cell_type": "markdown",
   "metadata": {},
   "source": [
    "#### Cointegrated Prices\n",
    "Even if two prices follow a random walk, it's possible that a linear combination of them does not follow a random walk. So even though the individual prices themselves are not forecastable because they're random walks, the linear combination is forecastable. \n",
    "\n",
    "Below I will test for cointegration of various asset prices with bitcoin prices. I will do this in two parts: First, regress bitcoin prices on other asset prices to get the slope coefficient m. Second, run the Augmented Dickey Fuller test on the linar combination of each series pair to determine whether it's a random walk. The null hypothesis is no cointegration. I'm setting a 10% significance level for rejecting the null. Any assets that pass the test will be included in the model.\n",
    "\n",
    "The implication of cointegrated pairs is that there are economic forces linking the two prices. They can be economic substitutes. Investment assets can be roughly divided into two categories - Risk-on and Risk-off. For example, stocks are Risk-on assets and bonds are Risk-off. During times of heightened uncertainty, investors seek shelter in safer assets. The opposite is true during times of optimism or exuberance."
   ]
  },
  {
   "cell_type": "code",
   "execution_count": 73,
   "metadata": {},
   "outputs": [],
   "source": [
    "def adf_test():\n",
    "    # Regress BTC on other assets\n",
    "    adf_stats_list = []\n",
    "    asset_classes = [x for x in df.columns if 'close' in x][1:]\n",
    "    BTC = df[['btc_close']]\n",
    "    for asset in asset_classes:\n",
    "        ASSET = sm.add_constant(df[[asset]])\n",
    "        result = sm.OLS(BTC,ASSET).fit()\n",
    "\n",
    "        # Compute ADF of prices and make dataframe\n",
    "        b = result.params[1]\n",
    "        adf_stats = adfuller(BTC['btc_close'] - b*ASSET[asset])\n",
    "        adf_stats_list.append((asset, adf_stats[1], b))\n",
    "        adf_df = pd.DataFrame(adf_stats_list, columns = ['asset','ADF p-value', 'slope coef'])\n",
    "    \n",
    "    return adf_df.sort_values('ADF p-value')\n"
   ]
  },
  {
   "cell_type": "code",
   "execution_count": 74,
   "metadata": {},
   "outputs": [
    {
     "data": {
      "text/html": [
       "<div>\n",
       "<style scoped>\n",
       "    .dataframe tbody tr th:only-of-type {\n",
       "        vertical-align: middle;\n",
       "    }\n",
       "\n",
       "    .dataframe tbody tr th {\n",
       "        vertical-align: top;\n",
       "    }\n",
       "\n",
       "    .dataframe thead th {\n",
       "        text-align: right;\n",
       "    }\n",
       "</style>\n",
       "<table border=\"1\" class=\"dataframe\">\n",
       "  <thead>\n",
       "    <tr style=\"text-align: right;\">\n",
       "      <th></th>\n",
       "      <th>asset</th>\n",
       "      <th>ADF p-value</th>\n",
       "      <th>slope coef</th>\n",
       "    </tr>\n",
       "  </thead>\n",
       "  <tbody>\n",
       "    <tr>\n",
       "      <td>1</td>\n",
       "      <td>mchi_close</td>\n",
       "      <td>0.002393</td>\n",
       "      <td>338.681703</td>\n",
       "    </tr>\n",
       "    <tr>\n",
       "      <td>2</td>\n",
       "      <td>eem_close</td>\n",
       "      <td>0.003118</td>\n",
       "      <td>600.181084</td>\n",
       "    </tr>\n",
       "    <tr>\n",
       "      <td>0</td>\n",
       "      <td>spx_close</td>\n",
       "      <td>0.024696</td>\n",
       "      <td>8.744135</td>\n",
       "    </tr>\n",
       "    <tr>\n",
       "      <td>7</td>\n",
       "      <td>eth_close</td>\n",
       "      <td>0.087842</td>\n",
       "      <td>12.706555</td>\n",
       "    </tr>\n",
       "    <tr>\n",
       "      <td>3</td>\n",
       "      <td>gld_close</td>\n",
       "      <td>0.131093</td>\n",
       "      <td>228.228387</td>\n",
       "    </tr>\n",
       "    <tr>\n",
       "      <td>5</td>\n",
       "      <td>tips_close</td>\n",
       "      <td>0.150064</td>\n",
       "      <td>657.476316</td>\n",
       "    </tr>\n",
       "    <tr>\n",
       "      <td>4</td>\n",
       "      <td>agg_close</td>\n",
       "      <td>0.194916</td>\n",
       "      <td>552.062866</td>\n",
       "    </tr>\n",
       "    <tr>\n",
       "      <td>6</td>\n",
       "      <td>vix_close</td>\n",
       "      <td>0.500452</td>\n",
       "      <td>-112.887663</td>\n",
       "    </tr>\n",
       "  </tbody>\n",
       "</table>\n",
       "</div>"
      ],
      "text/plain": [
       "        asset  ADF p-value  slope coef\n",
       "1  mchi_close     0.002393  338.681703\n",
       "2   eem_close     0.003118  600.181084\n",
       "0   spx_close     0.024696    8.744135\n",
       "7   eth_close     0.087842   12.706555\n",
       "3   gld_close     0.131093  228.228387\n",
       "5  tips_close     0.150064  657.476316\n",
       "4   agg_close     0.194916  552.062866\n",
       "6   vix_close     0.500452 -112.887663"
      ]
     },
     "execution_count": 74,
     "metadata": {},
     "output_type": "execute_result"
    }
   ],
   "source": [
    "adf_df = adf_test()\n",
    "adf_df "
   ]
  },
  {
   "cell_type": "markdown",
   "metadata": {},
   "source": [
    "**Results:** Reject the null hypotheses that asset pairs are not cointegrated for the S&P 500 (US stocks), MCHI ETF (Chinese stocks), EEM ETF (emerging market equities), and ether (a cryptocurrency). Surprisingly gold missed the significance threshold with a p-value of 13%. "
   ]
  },
  {
   "cell_type": "code",
   "execution_count": 93,
   "metadata": {},
   "outputs": [
    {
     "data": {
      "image/png": "[encoded data removed]",
      "text/plain": [
       "<Figure size 432x288 with 2 Axes>"
      ]
     },
     "metadata": {
      "needs_background": "light"
     },
     "output_type": "display_data"
    },
    {
     "data": {
      "image/png": "[encoded data removed]",
      "text/plain": [
       "<Figure size 432x288 with 2 Axes>"
      ]
     },
     "metadata": {
      "needs_background": "light"
     },
     "output_type": "display_data"
    },
    {
     "data": {
      "image/png": "[encoded data removed]",
      "text/plain": [
       "<Figure size 432x288 with 2 Axes>"
      ]
     },
     "metadata": {
      "needs_background": "light"
     },
     "output_type": "display_data"
    },
    {
     "data": {
      "image/png": "[encoded data removed]",
      "text/plain": [
       "<Figure size 432x288 with 2 Axes>"
      ]
     },
     "metadata": {
      "needs_background": "light"
     },
     "output_type": "display_data"
    }
   ],
   "source": [
    "# Cointegration Plots\n",
    "'''This function plots the log price of bitcoin vs cointegrated assets in the top chart\n",
    "and plots the mean adjusted spread in the bottom chart'''\n",
    "p_crit = 0.10\n",
    "passed_adf = adf_df[adf_df['ADF p-value'] <= p_crit].reset_index(drop=True)\n",
    "coint_assets = passed_adf.asset.to_list()\n",
    "labels = ['Chinese Equities', 'EM Equities', 'US Equities', 'Ether']\n",
    "b = passed_adf.iloc[:,2]\n",
    "\n",
    "for i, asset in enumerate(coint_assets):\n",
    "    # Plot the prices separately\n",
    "    plt.subplot(2,1,1)\n",
    "    plt.plot(np.log(b[i]*df[asset]), label=labels[i])\n",
    "    plt.plot(np.log(df.btc_close), label='Bitcoin')\n",
    "    plt.legend(loc='best', fontsize='small')\n",
    "\n",
    "    # Plot the spread\n",
    "    spread = df.btc_close - b[i]*df[asset]\n",
    "    mean = spread.mean()\n",
    "    plt.subplot(2,1,2)\n",
    "    plt.plot(spread - mean, label='Spread')\n",
    "    plt.legend(loc='best', fontsize='small')\n",
    "    plt.axhline(y=0, linestyle='--', color='k')\n",
    "    plt.show()"
   ]
  },
  {
   "cell_type": "markdown",
   "metadata": {},
   "source": [
    "**Cointegrated Plot Discussion:** There are substantial price level differences between bitcoin and cointegrated assets, so I log scaled the prices for better visualization. I also adjusted the spread to center around zero by subtracting the mean difference; this also produces a better visualization. For all of the plots, the spread clearly shows mean reversion. This implies that there is an economic relationship between these assets and bitcoin such that including them in the model should improve the forecast. Last, looking at Chinese equities and emerging market equities, the spread to bitcoin is almost exactly the same. **Because Chinese equities and emerging market equitites are strongly correlated and because China accounts for 2/3rd of bitcoin mining alone, I will use Chinese equities only (dropping EM equities).**\n",
    "\n",
    "#### Add Cointegrated Pairs to df "
   ]
  },
  {
   "cell_type": "code",
   "execution_count": 94,
   "metadata": {},
   "outputs": [],
   "source": [
    "# adding the mean adjusted log price difference of the cointegrated pairs to the df\n",
    "for i, asset in enumerate(coint_assets):\n",
    "    spread = df.btc_close - b[i]*df[asset]\n",
    "    mean = spread.mean()\n",
    "    df[f'{asset}_coint'] = spread - mean\n",
    "    "
   ]
  },
  {
   "cell_type": "code",
   "execution_count": 95,
   "metadata": {},
   "outputs": [
    {
     "name": "stdout",
     "output_type": "stream",
     "text": [
      "<class 'pandas.core.frame.DataFrame'>\n",
      "DatetimeIndex: 1656 entries, 2015-08-07 to 2020-02-17\n",
      "Data columns (total 22 columns):\n",
      "btc_close           1656 non-null float64\n",
      "spx_close           1656 non-null float64\n",
      "mchi_close          1656 non-null float64\n",
      "eem_close           1656 non-null float64\n",
      "gld_close           1656 non-null float64\n",
      "agg_close           1656 non-null float64\n",
      "tips_close          1656 non-null float64\n",
      "vix_close           1656 non-null float64\n",
      "iai_value           1639 non-null float64\n",
      "eth_close           1656 non-null float64\n",
      "7D                  1656 non-null float64\n",
      "14D                 1656 non-null float64\n",
      "20D                 1656 non-null float64\n",
      "50D                 1656 non-null float64\n",
      "rsi7                1649 non-null float64\n",
      "rsi14               1642 non-null float64\n",
      "rsi20               1636 non-null float64\n",
      "rsi50               1606 non-null float64\n",
      "mchi_close_coint    1656 non-null float64\n",
      "eem_close_coint     1656 non-null float64\n",
      "spx_close_coint     1656 non-null float64\n",
      "eth_close_coint     1656 non-null float64\n",
      "dtypes: float64(22)\n",
      "memory usage: 297.6 KB\n"
     ]
    }
   ],
   "source": [
    "df.info()"
   ]
  },
  {
   "cell_type": "markdown",
   "metadata": {},
   "source": [
    "#### Analyze Lag Cointegrated Pairs\n",
    "Because the objective is to use information available at time t to make actionable trade decisions for time t + 1, I'm interested in whether I can incorporate lags of the cointegrated pairs into my model."
   ]
  },
  {
   "cell_type": "code",
   "execution_count": 99,
   "metadata": {},
   "outputs": [
    {
     "name": "stdout",
     "output_type": "stream",
     "text": [
      "mchi_close autocorrelation of daily price differences is 99.83%\n",
      "eem_close autocorrelation of daily price differences is 99.81%\n",
      "spx_close autocorrelation of daily price differences is 99.91%\n",
      "eth_close autocorrelation of daily price differences is 99.66%\n"
     ]
    },
    {
     "data": {
      "image/png": "[encoded data removed]",
      "text/plain": [
       "<Figure size 576x576 with 2 Axes>"
      ]
     },
     "metadata": {
      "needs_background": "light"
     },
     "output_type": "display_data"
    },
    {
     "data": {
      "image/png": "[encoded data removed]",
      "text/plain": [
       "<Figure size 576x576 with 2 Axes>"
      ]
     },
     "metadata": {
      "needs_background": "light"
     },
     "output_type": "display_data"
    },
    {
     "data": {
      "image/png": "[encoded data removed]",
      "text/plain": [
       "<Figure size 576x576 with 2 Axes>"
      ]
     },
     "metadata": {
      "needs_background": "light"
     },
     "output_type": "display_data"
    },
    {
     "data": {
      "image/png": "[encoded data removed]",
      "text/plain": [
       "<Figure size 576x576 with 2 Axes>"
      ]
     },
     "metadata": {
      "needs_background": "light"
     },
     "output_type": "display_data"
    }
   ],
   "source": [
    "# analizing lags for cointegrated variables\n",
    "from statsmodels.tsa.stattools import adfuller\n",
    "from statsmodels.graphics.tsaplots import plot_acf, plot_pacf\n",
    "\n",
    "for asset in coint_assets:\n",
    "    # the autocorrelation plot on log daily returns shows significant lags at 6 and 10 at the 95% confidence level \n",
    "    '''not sure why the plots print twice, but ignore the last two'''\n",
    "    autocorrelation = df[asset].autocorr()\n",
    "    print(f'{asset} autocorrelation of daily price differences is {round(autocorrelation*100,2)}%')\n",
    "    fig, ax = plt.subplots(2,1, figsize=(8,8))\n",
    "\n",
    "    plot_acf(df[asset], zero=False, lags=20, ax=ax[0])\n",
    "    plot_pacf(df[asset], zero=False, lags=20, ax=ax[1])"
   ]
  },
  {
   "cell_type": "markdown",
   "metadata": {},
   "source": [
    "**Result:** The ACF plots tail off and the PACF plots drop of at lag on, indicating that lag 1 contains pretty much all the information. Furthermore, I can use lag 1 cointegrated price differences because they contain close to 100% of the information about price difference at time t.  "
   ]
  },
  {
   "cell_type": "code",
   "execution_count": 100,
   "metadata": {},
   "outputs": [],
   "source": [
    "# add 1 day lagged cointegrated price differences to df\n",
    "for i, asset in enumerate(coint_assets):\n",
    "    df[f'{asset}_lag'] = df[f'{asset}_coint'].shift(1)"
   ]
  },
  {
   "cell_type": "code",
   "execution_count": 101,
   "metadata": {},
   "outputs": [
    {
     "data": {
      "text/html": [
       "<div>\n",
       "<style scoped>\n",
       "    .dataframe tbody tr th:only-of-type {\n",
       "        vertical-align: middle;\n",
       "    }\n",
       "\n",
       "    .dataframe tbody tr th {\n",
       "        vertical-align: top;\n",
       "    }\n",
       "\n",
       "    .dataframe thead th {\n",
       "        text-align: right;\n",
       "    }\n",
       "</style>\n",
       "<table border=\"1\" class=\"dataframe\">\n",
       "  <thead>\n",
       "    <tr style=\"text-align: right;\">\n",
       "      <th></th>\n",
       "      <th>btc_close</th>\n",
       "      <th>spx_close</th>\n",
       "      <th>mchi_close</th>\n",
       "      <th>eem_close</th>\n",
       "      <th>gld_close</th>\n",
       "      <th>agg_close</th>\n",
       "      <th>tips_close</th>\n",
       "      <th>vix_close</th>\n",
       "      <th>iai_value</th>\n",
       "      <th>eth_close</th>\n",
       "      <th>...</th>\n",
       "      <th>rsi20</th>\n",
       "      <th>rsi50</th>\n",
       "      <th>mchi_close_coint</th>\n",
       "      <th>eem_close_coint</th>\n",
       "      <th>spx_close_coint</th>\n",
       "      <th>eth_close_coint</th>\n",
       "      <th>mchi_close_lag</th>\n",
       "      <th>eem_close_lag</th>\n",
       "      <th>spx_close_lag</th>\n",
       "      <th>eth_close_lag</th>\n",
       "    </tr>\n",
       "    <tr>\n",
       "      <th>Date</th>\n",
       "      <th></th>\n",
       "      <th></th>\n",
       "      <th></th>\n",
       "      <th></th>\n",
       "      <th></th>\n",
       "      <th></th>\n",
       "      <th></th>\n",
       "      <th></th>\n",
       "      <th></th>\n",
       "      <th></th>\n",
       "      <th></th>\n",
       "      <th></th>\n",
       "      <th></th>\n",
       "      <th></th>\n",
       "      <th></th>\n",
       "      <th></th>\n",
       "      <th></th>\n",
       "      <th></th>\n",
       "      <th></th>\n",
       "      <th></th>\n",
       "      <th></th>\n",
       "    </tr>\n",
       "  </thead>\n",
       "  <tbody>\n",
       "    <tr>\n",
       "      <td>2015-08-07</td>\n",
       "      <td>279.584991</td>\n",
       "      <td>2077.570068</td>\n",
       "      <td>46.110725</td>\n",
       "      <td>32.698902</td>\n",
       "      <td>104.650002</td>\n",
       "      <td>97.121048</td>\n",
       "      <td>103.066452</td>\n",
       "      <td>13.390000</td>\n",
       "      <td>109.15</td>\n",
       "      <td>2.770000</td>\n",
       "      <td>...</td>\n",
       "      <td>NaN</td>\n",
       "      <td>NaN</td>\n",
       "      <td>-1891.155473</td>\n",
       "      <td>-1038.895601</td>\n",
       "      <td>-402.305199</td>\n",
       "      <td>-1761.880523</td>\n",
       "      <td>NaN</td>\n",
       "      <td>NaN</td>\n",
       "      <td>NaN</td>\n",
       "      <td>NaN</td>\n",
       "    </tr>\n",
       "    <tr>\n",
       "      <td>2015-08-08</td>\n",
       "      <td>260.997009</td>\n",
       "      <td>2086.440023</td>\n",
       "      <td>46.462504</td>\n",
       "      <td>32.882065</td>\n",
       "      <td>105.006668</td>\n",
       "      <td>97.079536</td>\n",
       "      <td>103.017403</td>\n",
       "      <td>13.003333</td>\n",
       "      <td>109.15</td>\n",
       "      <td>0.753325</td>\n",
       "      <td>...</td>\n",
       "      <td>NaN</td>\n",
       "      <td>NaN</td>\n",
       "      <td>-2028.884454</td>\n",
       "      <td>-1167.414351</td>\n",
       "      <td>-498.453263</td>\n",
       "      <td>-1754.843513</td>\n",
       "      <td>-1891.155473</td>\n",
       "      <td>-1038.895601</td>\n",
       "      <td>-402.305199</td>\n",
       "      <td>-1761.880523</td>\n",
       "    </tr>\n",
       "    <tr>\n",
       "      <td>2015-08-09</td>\n",
       "      <td>265.083008</td>\n",
       "      <td>2095.309977</td>\n",
       "      <td>46.814282</td>\n",
       "      <td>33.065227</td>\n",
       "      <td>105.363335</td>\n",
       "      <td>97.038025</td>\n",
       "      <td>102.968353</td>\n",
       "      <td>12.616667</td>\n",
       "      <td>109.15</td>\n",
       "      <td>0.701897</td>\n",
       "      <td>...</td>\n",
       "      <td>NaN</td>\n",
       "      <td>NaN</td>\n",
       "      <td>-2143.939453</td>\n",
       "      <td>-1273.259120</td>\n",
       "      <td>-571.927345</td>\n",
       "      <td>-1750.104041</td>\n",
       "      <td>-2028.884454</td>\n",
       "      <td>-1167.414351</td>\n",
       "      <td>-498.453263</td>\n",
       "      <td>-1754.843513</td>\n",
       "    </tr>\n",
       "    <tr>\n",
       "      <td>2015-08-10</td>\n",
       "      <td>264.470001</td>\n",
       "      <td>2104.179932</td>\n",
       "      <td>47.166061</td>\n",
       "      <td>33.248390</td>\n",
       "      <td>105.720001</td>\n",
       "      <td>96.996513</td>\n",
       "      <td>102.919304</td>\n",
       "      <td>12.230000</td>\n",
       "      <td>109.15</td>\n",
       "      <td>0.708448</td>\n",
       "      <td>...</td>\n",
       "      <td>NaN</td>\n",
       "      <td>NaN</td>\n",
       "      <td>-2263.693458</td>\n",
       "      <td>-1383.802895</td>\n",
       "      <td>-650.100434</td>\n",
       "      <td>-1750.800289</td>\n",
       "      <td>-2143.939453</td>\n",
       "      <td>-1273.259120</td>\n",
       "      <td>-571.927345</td>\n",
       "      <td>-1750.104041</td>\n",
       "    </tr>\n",
       "    <tr>\n",
       "      <td>2015-08-11</td>\n",
       "      <td>270.385986</td>\n",
       "      <td>2084.070068</td>\n",
       "      <td>46.582840</td>\n",
       "      <td>32.518738</td>\n",
       "      <td>106.260002</td>\n",
       "      <td>97.316696</td>\n",
       "      <td>103.342316</td>\n",
       "      <td>13.710000</td>\n",
       "      <td>109.15</td>\n",
       "      <td>1.070000</td>\n",
       "      <td>...</td>\n",
       "      <td>NaN</td>\n",
       "      <td>NaN</td>\n",
       "      <td>-2060.251191</td>\n",
       "      <td>-939.963582</td>\n",
       "      <td>-468.341082</td>\n",
       "      <td>-1749.478384</td>\n",
       "      <td>-2263.693458</td>\n",
       "      <td>-1383.802895</td>\n",
       "      <td>-650.100434</td>\n",
       "      <td>-1750.800289</td>\n",
       "    </tr>\n",
       "  </tbody>\n",
       "</table>\n",
       "<p>5 rows × 26 columns</p>\n",
       "</div>"
      ],
      "text/plain": [
       "             btc_close    spx_close  mchi_close  eem_close   gld_close  \\\n",
       "Date                                                                     \n",
       "2015-08-07  279.584991  2077.570068   46.110725  32.698902  104.650002   \n",
       "2015-08-08  260.997009  2086.440023   46.462504  32.882065  105.006668   \n",
       "2015-08-09  265.083008  2095.309977   46.814282  33.065227  105.363335   \n",
       "2015-08-10  264.470001  2104.179932   47.166061  33.248390  105.720001   \n",
       "2015-08-11  270.385986  2084.070068   46.582840  32.518738  106.260002   \n",
       "\n",
       "            agg_close  tips_close  vix_close  iai_value  eth_close  ...  \\\n",
       "Date                                                                ...   \n",
       "2015-08-07  97.121048  103.066452  13.390000     109.15   2.770000  ...   \n",
       "2015-08-08  97.079536  103.017403  13.003333     109.15   0.753325  ...   \n",
       "2015-08-09  97.038025  102.968353  12.616667     109.15   0.701897  ...   \n",
       "2015-08-10  96.996513  102.919304  12.230000     109.15   0.708448  ...   \n",
       "2015-08-11  97.316696  103.342316  13.710000     109.15   1.070000  ...   \n",
       "\n",
       "            rsi20  rsi50  mchi_close_coint  eem_close_coint  spx_close_coint  \\\n",
       "Date                                                                           \n",
       "2015-08-07    NaN    NaN      -1891.155473     -1038.895601      -402.305199   \n",
       "2015-08-08    NaN    NaN      -2028.884454     -1167.414351      -498.453263   \n",
       "2015-08-09    NaN    NaN      -2143.939453     -1273.259120      -571.927345   \n",
       "2015-08-10    NaN    NaN      -2263.693458     -1383.802895      -650.100434   \n",
       "2015-08-11    NaN    NaN      -2060.251191      -939.963582      -468.341082   \n",
       "\n",
       "            eth_close_coint  mchi_close_lag  eem_close_lag  spx_close_lag  \\\n",
       "Date                                                                        \n",
       "2015-08-07     -1761.880523             NaN            NaN            NaN   \n",
       "2015-08-08     -1754.843513    -1891.155473   -1038.895601    -402.305199   \n",
       "2015-08-09     -1750.104041    -2028.884454   -1167.414351    -498.453263   \n",
       "2015-08-10     -1750.800289    -2143.939453   -1273.259120    -571.927345   \n",
       "2015-08-11     -1749.478384    -2263.693458   -1383.802895    -650.100434   \n",
       "\n",
       "            eth_close_lag  \n",
       "Date                       \n",
       "2015-08-07            NaN  \n",
       "2015-08-08   -1761.880523  \n",
       "2015-08-09   -1754.843513  \n",
       "2015-08-10   -1750.104041  \n",
       "2015-08-11   -1750.800289  \n",
       "\n",
       "[5 rows x 26 columns]"
      ]
     },
     "execution_count": 101,
     "metadata": {},
     "output_type": "execute_result"
    }
   ],
   "source": [
    "df.head()"
   ]
  },
  {
   "cell_type": "markdown",
   "metadata": {},
   "source": [
    "### Additional Feature Engineering for Non-Linear Models\n",
    "I'm going to use non-linear models to try to improve my predictions. With linear models, features must be linearly correlated to the target. Other machine learning models can combine features in non-linear ways. For example, what if the price goes up when the moving average of price is going up, and the moving average of volume is going down? The only way to capture those interactions is to either multiply the features (interaction variables), or to use a machine learning algorithm that can handle non-linearity (e.g. random forests, knn, neural networks).\n",
    "#### Day of Week Categorical Variables"
   ]
  },
  {
   "cell_type": "code",
   "execution_count": 103,
   "metadata": {},
   "outputs": [],
   "source": [
    "# Use pandas' get_dummies function to get dummies for day of the week\n",
    "days_of_week = pd.get_dummies(df.index.dayofweek,\n",
    "                              prefix='day',\n",
    "                              drop_first=True)\n",
    "\n",
    "# Set the index as the original dataframe index for merging\n",
    "days_of_week.index = df.index\n",
    "\n",
    "# Join the dataframe with the days of week dataframe\n",
    "df = pd.concat([df, days_of_week], axis=1)"
   ]
  },
  {
   "cell_type": "code",
   "execution_count": null,
   "metadata": {},
   "outputs": [],
   "source": [
    "# Create 2 new volume features, 1-day % change and 5-day SMA of the % change for bitcoin\n",
    "features = ['Volume_1d_change', 'Volume_1d_change_SMA']\n",
    "\n",
    "df_volumes['Volume_1d_change'] = df_volumes['btc_volume'].pct_change()\n",
    "df_volumes['Volume_1d_change_SMA'] = df_volumes['Volume_1d_change'].rolling(5).mean()"
   ]
  },
  {
   "cell_type": "code",
   "execution_count": 105,
   "metadata": {},
   "outputs": [
    {
     "data": {
      "text/plain": [
       "<matplotlib.axes._subplots.AxesSubplot at 0x25132747898>"
      ]
     },
     "execution_count": 105,
     "metadata": {},
     "output_type": "execute_result"
    },
    {
     "data": {
      "image/png": "[encoded data removed]",
      "text/plain": [
       "<Figure size 432x288 with 1 Axes>"
      ]
     },
     "metadata": {
      "needs_background": "light"
     },
     "output_type": "display_data"
    }
   ],
   "source": [
    "# Plot histogram of volume % change data\n",
    "df_volumes[features].plot(kind='hist', sharex=False, bins=50, alpha=0.7)"
   ]
  },
  {
   "cell_type": "markdown",
   "metadata": {},
   "source": [
    "Moving average of volume changes has a much smaller range than the raw data."
   ]
  },
  {
   "cell_type": "code",
   "execution_count": 111,
   "metadata": {
    "scrolled": true
   },
   "outputs": [],
   "source": [
    "df = df.join(df_volumes[features], how='left')"
   ]
  },
  {
   "cell_type": "code",
   "execution_count": 112,
   "metadata": {},
   "outputs": [],
   "source": [
    "df.to_csv('trade_df.csv')"
   ]
  },
  {
   "cell_type": "code",
   "execution_count": null,
   "metadata": {},
   "outputs": [],
   "source": []
  }
 ],
 "metadata": {
  "kernelspec": {
   "display_name": "Python 3",
   "language": "python",
   "name": "python3"
  },
  "language_info": {
   "codemirror_mode": {
    "name": "ipython",
    "version": 3
   },
   "file_extension": ".py",
   "mimetype": "text/x-python",
   "name": "python",
   "nbconvert_exporter": "python",
   "pygments_lexer": "ipython3",
   "version": "3.6.9"
  }
 },
 "nbformat": 4,
 "nbformat_minor": 2
}
